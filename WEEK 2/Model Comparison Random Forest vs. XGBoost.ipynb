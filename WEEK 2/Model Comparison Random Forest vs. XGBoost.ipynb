{
 "cells": [
  {
   "cell_type": "markdown",
   "id": "a757098a-fdd4-43a9-bb81-83582f975c8c",
   "metadata": {},
   "source": [
    "# Model Comparison: Random Forest vs. XGBoost\r\n",
    "**\r\n",
    "\r\n",
    "## **Overview**\r\n",
    "This project evaluates the performance of **Random Forest** and **XGBoost** on a diabetes prediction dataset. The focus is on predictive accuracy and feature importance, without hyperparameter tuning.\r\n",
    "\r\n",
    "---\r\n",
    "\r\n",
    "## **Dataset**\r\n",
    "- **Source**: National Institute of Diabetes and Digestive and Kidney Diseases.\r\n",
    "- **Instances**: 768.\r\n",
    "- **Features**: 8 independent variables (e.g., Glucose, BMI, Age) and 1 target (`Outcome`: 1 for diabetic, 0 for non-diabetic).\r\n",
    "- **Quality**: Clean data with no missing values.\r\n",
    "\r\n",
    "---\r\n",
    "\r\n",
    "## **Workflow**\r\n",
    "1. **Data Preprocessing**: Split into training (80%) and testing (20%) sets.\r\n",
    "2. **Model Training**:\r\n",
    "   - Random Forest and XGBoost were trained with default parameters.\r\n",
    "3. **Evaluation**:\r\n",
    "   - Metrics: Accuracy, Precision, Recall, F1 Score, and ROC-AUC.\r\n",
    "   - Feature importance analyzed using built-in methods (Random Forest) and SHAP (XGBoost).\r\n",
    "\r\n",
    "---\r\n",
    "\r\n",
    "## **Results**\r\n",
    "| **Metric**       | **Random Forest** | **XGBoost**   |\r\n",
    "|-------------------|-------------------|---------------|\r\n",
    "| **Accuracy**      | 0.7208            | 0.7078        |\r\n",
    "| **Precision**     | 0.6071            | 0.5806        |\r\n",
    "| **Recall**        | 0.6182            | 0.6545        |\r\n",
    "| **F1 Score**      | 0.6126            | 0.6154        |\r\n",
    "| **ROC-AUC**       | 0.8120            | 0.7666        |\r\n",
    "\r\n",
    "- **Random Forest**: Better overall performance with higher accuracy and ROC-AUC.\r\n",
    "- **XGBoost**: Higher recall, capturing more true positives.\r\n",
    "\r\n",
    "---\r\n",
    "\r\n",
    "## **Explainability**\r\n",
    "- **Random Forest**: Top features: Glucose, BMI, Age (derived from feature importance).\r\n",
    "- **XGBoost**: SHAP analysis confirms Glucose as the most significant predictor, followed by BMI and Age.\r\n",
    "\r\n",
    "---\r\n",
    "\r\n",
    "## **Future Enhancements**\r\n",
    "1. Optimize models using hyperparameter tuning (e.g., GridSearchCV).\r\n",
    "2. Experiment with additional algorithms (e.g., Neural Networks, SVMs).\r\n",
    "3. Develop a dashboard for interactive data visualization and prediction analysis.\r\n",
    "\r\n",
    "---\r\n",
    "\r\n",
    "## **How to Use**\r\n",
    "1. Install dependencies:\r\n",
    "   ```bash\r\n",
    "   pip install scikit-learn xgboost shap pandas numpy matplotlib seaborn\r\n"
   ]
  },
  {
   "cell_type": "code",
   "execution_count": null,
   "id": "33b16a9c-34d6-4c63-bc97-14b28091d7d9",
   "metadata": {},
   "outputs": [],
   "source": []
  }
 ],
 "metadata": {
  "kernelspec": {
   "display_name": "Python 3 (ipykernel)",
   "language": "python",
   "name": "python3"
  },
  "language_info": {
   "codemirror_mode": {
    "name": "ipython",
    "version": 3
   },
   "file_extension": ".py",
   "mimetype": "text/x-python",
   "name": "python",
   "nbconvert_exporter": "python",
   "pygments_lexer": "ipython3",
   "version": "3.12.4"
  }
 },
 "nbformat": 4,
 "nbformat_minor": 5
}
