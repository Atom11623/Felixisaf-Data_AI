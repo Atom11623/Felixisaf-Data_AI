{
 "cells": [
  {
   "cell_type": "markdown",
   "id": "22a0b6a7-f023-4526-a06d-cd3aed7a638d",
   "metadata": {},
   "source": [
    "# Twitter Data Preprocessing Project\n",
    "\n",
    "## Project Overview\n",
    "This project focuses on preprocessing Twitter data from the **WeRateDogs dataset**, provided by Udacity. The dataset consists of tweets containing various metadata, including timestamps, sources, and textual content. The primary objective of this project is to clean and preprocess the dataset for Natural Language Processing (NLP) tasks such as sentiment analysis, text classification, and exploratory data analysis. The preprocessing ensures that the text data is structured, noise-free, and ready for further modeling.\n",
    "\n",
    "## Dataset Information\n",
    "- **Dataset Name:** WeRateDogs Twitter Dataset (Udacity)\n",
    "- **File Used:** `twitter.csv`\n",
    "- **Primary Column:** `text` (contains tweet content)\n",
    "- **Additional Processed Column:** `source`\n",
    "- **Columns Removed:**\n",
    "  - `in_reply_to_status_id`\n",
    "  - `in_reply_to_user_id`\n",
    "  - `timestamp`\n",
    "  - `retweeted_status_id`\n",
    "  - `retweeted_status_user_id`\n",
    "  - `retweeted_status_timestamp`\n",
    "  - `expanded_urls`\n",
    "\n",
    "## Preprocessing Workflow\n",
    "The dataset undergoes a series of preprocessing steps to refine the textual data and enhance its usability for NLP tasks. The following key steps are applied:\n",
    "\n",
    "1. **Lowercasing**: Converts all text to lowercase to ensure uniformity.\n",
    "2. **Removing URLs**: Extracts and removes any links (`http://` or `https://`) to prevent irrelevant content from interfering with analysis.\n",
    "3. **Removing Punctuation**: Eliminates unnecessary punctuation using `string.punctuation`.\n",
    "4. **Removing Stopwords**: Filters out common stopwords (e.g., \"and\", \"the\", \"is\") using the `nltk` library to improve model efficiency.\n",
    "5. **Removing Emojis**: Uses regex to remove emojis and pictographs that may not contribute to textual meaning.\n",
    "6. **Lemmatization**: Converts words to their base form (e.g., \"running\" → \"run\") using `spaCy` to maintain consistency.\n",
    "7. **Cleaning Source Column**: Extracts the platform name (e.g., \"Twitter for iPhone\") from HTML-formatted sources to ensure clarity.\n",
    "\n",
    "## Technologies and Dependencies\n",
    "The preprocessing pipeline is implemented in Python, leveraging the following libraries:\n",
    "\n",
    "- **`pandas`** – for data manipulation and handling\n",
    "- **`string`** – for punctuation removal\n",
    "- **`re`** – for regex-based text processing\n",
    "- **`nltk`** – for stopword removal\n",
    "- **`spacy`** – for advanced NLP tasks, including lemmatization\n",
    "\n",
    "### Installation\n",
    "To install the required dependencies, execute the following commands:\n",
    "```bash\n",
    "pip install pandas nltk spacy\n",
    "python -m spacy download en_core_web_sm\n",
    "```\n",
    "\n",
    "## Execution\n",
    "\n",
    "The script processes the dataset and outputs a cleaned version saved as `cleaned_twitter.csv`.\n",
    "\n",
    "\n",
    "## Use Cases and Applications\n",
    "The cleaned dataset can be used for:\n",
    "- Sentiment analysis of tweets\n",
    "- Text classification (e.g., categorizing tweets by topics)\n",
    "- Named Entity Recognition (NER) tasks\n",
    "- Training machine learning models for NLP\n",
    "- Social media trend analysis"
   ]
  },
  {
   "cell_type": "code",
   "execution_count": null,
   "id": "b5d99535-d0e9-4715-ac94-1d6bfdb4c4e6",
   "metadata": {},
   "outputs": [],
   "source": []
  }
 ],
 "metadata": {
  "kernelspec": {
   "display_name": "Python 3 (ipykernel)",
   "language": "python",
   "name": "python3"
  },
  "language_info": {
   "codemirror_mode": {
    "name": "ipython",
    "version": 3
   },
   "file_extension": ".py",
   "mimetype": "text/x-python",
   "name": "python",
   "nbconvert_exporter": "python",
   "pygments_lexer": "ipython3",
   "version": "3.12.7"
  }
 },
 "nbformat": 4,
 "nbformat_minor": 5
}
